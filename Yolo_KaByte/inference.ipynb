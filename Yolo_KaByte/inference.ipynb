{
 "cells": [
  {
   "cell_type": "code",
   "execution_count": 11,
   "id": "f3220201",
   "metadata": {},
   "outputs": [
    {
     "name": "stdout",
     "output_type": "stream",
     "text": [
      "\n",
      "image 1/1 /Users/trofimovmikhail/Кабайт/Yolo_KaByte_ver2/images-test/main__foto-na-plenku.7yxevbwst9rj.jpeg: 384x640 1 digital camera, 116.7ms\n",
      "Speed: 3.1ms preprocess, 116.7ms inference, 0.6ms postprocess per image at shape (1, 3, 384, 640)\n"
     ]
    }
   ],
   "source": [
    "from ultralytics import YOLO\n",
    "\n",
    "model = YOLO('runs/detect/train/weights/best.pt')\n",
    "\n",
    "img = 'main__foto-na-plenku.7yxevbwst9rj.jpeg'\n",
    "\n",
    "result = model(f'images-test/{img}')\n",
    "result[0].show()"
   ]
  },
  {
   "cell_type": "code",
   "execution_count": 12,
   "id": "876538b5",
   "metadata": {},
   "outputs": [
    {
     "data": {
      "text/plain": [
       "[ultralytics.engine.results.Results object with attributes:\n",
       " \n",
       " boxes: ultralytics.engine.results.Boxes object\n",
       " keypoints: None\n",
       " masks: None\n",
       " names: {0: 'digital camera', 1: 'soap camera', 2: 'telephone', 3: 'momentum camera', 4: 'film camera'}\n",
       " obb: None\n",
       " orig_img: array([[[217, 236, 249],\n",
       "         [217, 236, 249],\n",
       "         [217, 236, 249],\n",
       "         ...,\n",
       "         [220, 238, 249],\n",
       "         [220, 238, 249],\n",
       "         [220, 238, 249]],\n",
       " \n",
       "        [[217, 236, 249],\n",
       "         [217, 236, 249],\n",
       "         [217, 236, 249],\n",
       "         ...,\n",
       "         [220, 238, 249],\n",
       "         [220, 238, 249],\n",
       "         [220, 238, 249]],\n",
       " \n",
       "        [[217, 236, 249],\n",
       "         [217, 236, 249],\n",
       "         [217, 236, 249],\n",
       "         ...,\n",
       "         [220, 238, 249],\n",
       "         [220, 238, 249],\n",
       "         [220, 238, 249]],\n",
       " \n",
       "        ...,\n",
       " \n",
       "        [[153, 144, 100],\n",
       "         [153, 144, 100],\n",
       "         [153, 144, 100],\n",
       "         ...,\n",
       "         [160, 151, 108],\n",
       "         [159, 150, 107],\n",
       "         [157, 148, 105]],\n",
       " \n",
       "        [[153, 144, 100],\n",
       "         [153, 144, 100],\n",
       "         [153, 144, 100],\n",
       "         ...,\n",
       "         [159, 150, 107],\n",
       "         [158, 149, 106],\n",
       "         [156, 147, 104]],\n",
       " \n",
       "        [[153, 144, 100],\n",
       "         [153, 144, 100],\n",
       "         [153, 144, 100],\n",
       "         ...,\n",
       "         [158, 149, 106],\n",
       "         [157, 148, 105],\n",
       "         [155, 146, 103]]], dtype=uint8)\n",
       " orig_shape: (1372, 2440)\n",
       " path: '/Users/trofimovmikhail/Кабайт/Yolo_KaByte_ver2/images-test/main__foto-na-plenku.7yxevbwst9rj.jpeg'\n",
       " probs: None\n",
       " save_dir: 'runs/detect/predict'\n",
       " speed: {'preprocess': 3.083944320678711, 'inference': 116.71686172485352, 'postprocess': 0.6320476531982422}]"
      ]
     },
     "execution_count": 12,
     "metadata": {},
     "output_type": "execute_result"
    }
   ],
   "source": [
    "result"
   ]
  },
  {
   "cell_type": "code",
   "execution_count": null,
   "id": "a9d84603",
   "metadata": {},
   "outputs": [],
   "source": []
  }
 ],
 "metadata": {
  "kernelspec": {
   "display_name": "Python 3 (ipykernel)",
   "language": "python",
   "name": "python3"
  },
  "language_info": {
   "codemirror_mode": {
    "name": "ipython",
    "version": 3
   },
   "file_extension": ".py",
   "mimetype": "text/x-python",
   "name": "python",
   "nbconvert_exporter": "python",
   "pygments_lexer": "ipython3",
   "version": "3.9.13"
  }
 },
 "nbformat": 4,
 "nbformat_minor": 5
}
