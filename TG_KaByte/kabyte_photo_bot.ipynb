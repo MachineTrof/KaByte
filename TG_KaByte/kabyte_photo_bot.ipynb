{
 "cells": [
  {
   "cell_type": "code",
   "execution_count": null,
   "id": "fbc5ae37",
   "metadata": {
    "scrolled": false
   },
   "outputs": [],
   "source": [
    "# библиотеки по работе с Телеграмом\n",
    "import asyncio\n",
    "import logging\n",
    "from aiogram import Bot, Dispatcher, types\n",
    "from aiogram.filters.command import Command\n",
    "from aiogram import F\n",
    "from aiogram.types import Message\n",
    "from aiogram.types import FSInputFile\n",
    "Token = \"6398494394:AAHfuntYl5HTKh3EHtPZTv1OZlVRuPCKggs\" # токен бота\n",
    "logging.basicConfig(level = logging.INFO) # запуск логирования\n",
    "bot = Bot(token = Token) # объект бота\n",
    "dp = Dispatcher() # диспетчер\n",
    "\n",
    "# библиотека для работы с yolo\n",
    "from ultralytics import YOLO\n",
    "model = YOLO('best.pt') # модель по лучшим параметрам, полученным при обучении в \"YOLO_KaByte\"\n",
    "\n",
    "# библиотека для работы с http-запросами\n",
    "import requests\n",
    "# uri для получения пути к отправленной фотографии\n",
    "URI_get_file_path = f'https://api.telegram.org/bot{Token}/getFile?file_id='\n",
    "URI_get_file = f'https://api.telegram.org/file/bot{Token}/' # uri для получения файла по его пути\n",
    "\n",
    "# библиотеки для работы с байтовыми изображениями\n",
    "import io\n",
    "from PIL import Image\n",
    "from random import randint\n",
    "import os\n",
    "\n",
    "# хэндлер на команду /start\n",
    "@dp.message(Command(\"start\"))\n",
    "async def cmd_start(message: types.Message):\n",
    "    # о чём бот и для чего он создан?\n",
    "    await message.answer(\"Привет, я ФотоБот! Отправь мне фотографию человека с камерой, а я \\\n",
    "попробую понять, на что он фотографирует. На данный момент я стараюсь предсказать 5 типов камер:\\n\\\n",
    "1. цифровые;\\n2. плёночные;\\n3. мыльницы;\\n4. моментальной печати;\\n5. телефоны\")\n",
    "\n",
    "# хэндлер на получение фотографии\n",
    "@dp.message(F.photo)\n",
    "async def process_photo(message: Message):\n",
    "    await message.answer(\"Обрабатываем фото...\") # даём понять пользователю, что фото обрабатывается\n",
    "    file_id = message.photo[-1].file_id # получаем id файла с самым высоким разрешением\n",
    "    file_path = requests.get(URI_get_file_path + file_id).json()['result']['file_path'] # получаем путь к файлу\n",
    "    photo_byte = requests.get(URI_get_file + file_path) # получаем фото в виде байтов\n",
    "    photo = Image.open(io.BytesIO(photo_byte.content)) # получаем фотографию, с которой может работать yolo\n",
    "    photo_predict = model(photo)[0] # делаем предсказание\n",
    "    name = randint(10**20, 10**21) # уникальное имя фотографии\n",
    "    photo_predict.save(f'predict/{name}.png') # сохраняем фотографию\n",
    "    send = FSInputFile(f'predict/{name}.png') # отправляем сохранённое фото пользователю\n",
    "    await message.answer_photo(photo = send) \n",
    "    os.remove(f'predict/{name}.png') # удалем фото, чтобы не занимать память\n",
    "\n",
    "# запуск процесса поллинга новых апдейтов\n",
    "async def main():\n",
    "    await dp.start_polling(bot)\n",
    "await main()"
   ]
  },
  {
   "cell_type": "code",
   "execution_count": null,
   "id": "c154136f",
   "metadata": {},
   "outputs": [],
   "source": []
  }
 ],
 "metadata": {
  "kernelspec": {
   "display_name": "Python 3 (ipykernel)",
   "language": "python",
   "name": "python3"
  },
  "language_info": {
   "codemirror_mode": {
    "name": "ipython",
    "version": 3
   },
   "file_extension": ".py",
   "mimetype": "text/x-python",
   "name": "python",
   "nbconvert_exporter": "python",
   "pygments_lexer": "ipython3",
   "version": "3.9.13"
  }
 },
 "nbformat": 4,
 "nbformat_minor": 5
}
